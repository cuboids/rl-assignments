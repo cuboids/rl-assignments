{
 "cells": [
  {
   "cell_type": "code",
   "execution_count": 1,
   "metadata": {},
   "outputs": [
    {
     "data": {
      "text/plain": [
       "2"
      ]
     },
     "execution_count": 1,
     "metadata": {},
     "output_type": "execute_result"
    }
   ],
   "source": [
    "# example\n",
    "# search function from Plaat's book, listing 4.1, 4.3\n",
    "# minimax, depth-limited\n",
    "import numpy as np\n",
    "\n",
    "# sample tree\n",
    "leaf_node1 = {'type': 'LEAF', 'value': 1, 'score': 3}\n",
    "leaf_node2 = {'type': 'LEAF', 'value': 2, 'score': 4}\n",
    "leaf_node3 = {'type': 'LEAF', 'value': 3, 'score': 2}\n",
    "leaf_node4 = {'type': 'LEAF', 'value': 4, 'score': 9}\n",
    "leaf_node5 = {'type': 'LEAF', 'value': 5, 'score': 1}\n",
    "leaf_node6 = {'type': 'LEAF', 'value': 6, 'score': 7}\n",
    "\n",
    "min_node1 = {'type': 'MIN', \n",
    "             'children': [leaf_node6, \n",
    "                         leaf_node1, \n",
    "                         leaf_node3],\n",
    "            'score': 0}\n",
    "min_node2 = {'type': 'MIN', \n",
    "             'children': [leaf_node3, \n",
    "                         leaf_node4, \n",
    "                         leaf_node2],\n",
    "            'score': 0}\n",
    "min_node3 = {'type': 'MIN', \n",
    "             'children': [leaf_node1, \n",
    "                         leaf_node6, \n",
    "                         leaf_node5],\n",
    "            'score': 0}\n",
    "\n",
    "max_node1 = {'type': 'MAX', \n",
    "             'children': [min_node1, \n",
    "                         min_node2, \n",
    "                         min_node3],\n",
    "            'score': 0}\n",
    "\n",
    "root = max_node1\n",
    "\n",
    "# search function\n",
    "def minimax(n, d):\n",
    "    if d <= 0:\n",
    "#        return eval(n)\n",
    "         return n['score']\n",
    "    elif n['type'] == 'MAX':\n",
    "        g = -np.inf\n",
    "        for c in n['children']:\n",
    "            g = max(g, minimax(c, d-1))\n",
    "    elif n['type'] == 'MIN':\n",
    "        g = np.inf\n",
    "        for c in n['children']:\n",
    "            g = min(g, minimax(c, d-1))\n",
    "    else: \n",
    "        error('wrong node type')\n",
    "    return g # g is the maximun heuristic function value\n",
    "        \n",
    "# test function\n",
    "minimax(root, 2)"
   ]
  }
 ],
 "metadata": {
  "kernelspec": {
   "display_name": "Python 3",
   "language": "python",
   "name": "python3"
  },
  "language_info": {
   "codemirror_mode": {
    "name": "ipython",
    "version": 3
   },
   "file_extension": ".py",
   "mimetype": "text/x-python",
   "name": "python",
   "nbconvert_exporter": "python",
   "pygments_lexer": "ipython3",
   "version": "3.8.3"
  }
 },
 "nbformat": 4,
 "nbformat_minor": 4
}
